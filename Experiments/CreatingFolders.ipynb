{
 "cells": [
  {
   "cell_type": "code",
   "execution_count": 1,
   "id": "fbca12a3",
   "metadata": {},
   "outputs": [],
   "source": [
    "import os"
   ]
  },
  {
   "cell_type": "code",
   "execution_count": 6,
   "id": "4b7238ad",
   "metadata": {},
   "outputs": [],
   "source": [
    "path = \"D:/LumenResearchDataBase/Task07_Pancreas/Task07_Pancreas/dicome_flies/label\"\n",
    "\n",
    "for i in range(0, 281):\n",
    "    os.mkdir(os.path.join(path, \"Pancreas_\" + str(i)))"
   ]
  },
  {
   "cell_type": "code",
   "execution_count": null,
   "id": "7ef2063c",
   "metadata": {},
   "outputs": [],
   "source": []
  }
 ],
 "metadata": {
  "kernelspec": {
   "display_name": "Python 3 (ipykernel)",
   "language": "python",
   "name": "python3"
  },
  "language_info": {
   "codemirror_mode": {
    "name": "ipython",
    "version": 3
   },
   "file_extension": ".py",
   "mimetype": "text/x-python",
   "name": "python",
   "nbconvert_exporter": "python",
   "pygments_lexer": "ipython3",
   "version": "3.9.18"
  }
 },
 "nbformat": 4,
 "nbformat_minor": 5
}
