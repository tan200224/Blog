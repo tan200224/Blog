{
 "cells": [
  {
   "cell_type": "markdown",
   "id": "409a646a",
   "metadata": {},
   "source": [
    "# Installation and includes\n",
    "* install cuda\n",
    "* install cudnn\n",
    "* install monai\n",
    "* install pytorch"
   ]
  },
  {
   "cell_type": "code",
   "execution_count": 1,
   "id": "6f0d489d",
   "metadata": {},
   "outputs": [
    {
     "name": "stdout",
     "output_type": "stream",
     "text": [
      "Collecting monai\n",
      "  Downloading monai-1.3.0-202310121228-py3-none-any.whl.metadata (10 kB)\n",
      "Requirement already satisfied: numpy>=1.20 in c:\\users\\archie\\anaconda3\\envs\\torch\\lib\\site-packages (from monai) (1.26.0)\n",
      "Requirement already satisfied: torch>=1.9 in c:\\users\\archie\\anaconda3\\envs\\torch\\lib\\site-packages (from monai) (2.1.0)\n",
      "Requirement already satisfied: filelock in c:\\users\\archie\\anaconda3\\envs\\torch\\lib\\site-packages (from torch>=1.9->monai) (3.9.0)\n",
      "Requirement already satisfied: typing-extensions in c:\\users\\archie\\anaconda3\\envs\\torch\\lib\\site-packages (from torch>=1.9->monai) (4.7.1)\n",
      "Requirement already satisfied: sympy in c:\\users\\archie\\anaconda3\\envs\\torch\\lib\\site-packages (from torch>=1.9->monai) (1.11.1)\n",
      "Requirement already satisfied: networkx in c:\\users\\archie\\anaconda3\\envs\\torch\\lib\\site-packages (from torch>=1.9->monai) (3.1)\n",
      "Requirement already satisfied: jinja2 in c:\\users\\archie\\anaconda3\\envs\\torch\\lib\\site-packages (from torch>=1.9->monai) (3.1.2)\n",
      "Requirement already satisfied: fsspec in c:\\users\\archie\\anaconda3\\envs\\torch\\lib\\site-packages (from torch>=1.9->monai) (2023.10.0)\n",
      "Requirement already satisfied: MarkupSafe>=2.0 in c:\\users\\archie\\anaconda3\\envs\\torch\\lib\\site-packages (from jinja2->torch>=1.9->monai) (2.1.1)\n",
      "Requirement already satisfied: mpmath>=0.19 in c:\\users\\archie\\anaconda3\\envs\\torch\\lib\\site-packages (from sympy->torch>=1.9->monai) (1.3.0)\n",
      "Downloading monai-1.3.0-202310121228-py3-none-any.whl (1.3 MB)\n",
      "   ---------------------------------------- 0.0/1.3 MB ? eta -:--:--\n",
      "   - -------------------------------------- 0.1/1.3 MB 1.7 MB/s eta 0:00:01\n",
      "   -------------- ------------------------- 0.5/1.3 MB 5.9 MB/s eta 0:00:01\n",
      "   ------------------------- -------------- 0.8/1.3 MB 6.6 MB/s eta 0:00:01\n",
      "   ----------------------------------- ---- 1.2/1.3 MB 6.9 MB/s eta 0:00:01\n",
      "   ---------------------------------------- 1.3/1.3 MB 7.1 MB/s eta 0:00:00\n",
      "Installing collected packages: monai\n",
      "Successfully installed monai-1.3.0\n"
     ]
    }
   ],
   "source": [
    "!pip install monai"
   ]
  },
  {
   "cell_type": "code",
   "execution_count": 2,
   "id": "50893801",
   "metadata": {},
   "outputs": [],
   "source": [
    "import monai"
   ]
  },
  {
   "cell_type": "code",
   "execution_count": null,
   "id": "eaa2f565",
   "metadata": {},
   "outputs": [],
   "source": []
  }
 ],
 "metadata": {
  "kernelspec": {
   "display_name": "Python 3 (ipykernel)",
   "language": "python",
   "name": "python3"
  },
  "language_info": {
   "codemirror_mode": {
    "name": "ipython",
    "version": 3
   },
   "file_extension": ".py",
   "mimetype": "text/x-python",
   "name": "python",
   "nbconvert_exporter": "python",
   "pygments_lexer": "ipython3",
   "version": "3.9.18"
  }
 },
 "nbformat": 4,
 "nbformat_minor": 5
}
